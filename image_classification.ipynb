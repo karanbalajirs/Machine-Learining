{
 "cells": [
  {
   "cell_type": "code",
   "execution_count": 1,
   "id": "e9b3b995-2c87-40d7-a741-c543dac504a3",
   "metadata": {},
   "outputs": [
    {
     "name": "stdout",
     "output_type": "stream",
     "text": [
      "Downloading data from https://www.cs.toronto.edu/~kriz/cifar-10-python.tar.gz\n",
      "170498071/170498071 [==============================] - 21s 0us/step\n"
     ]
    }
   ],
   "source": [
    "from tensorflow.keras.datasets import cifar10\n",
    "(x_train,y_train),(x_test,y_test) = cifar10.load_data()"
   ]
  },
  {
   "cell_type": "code",
   "execution_count": 27,
   "id": "a5af7869-f067-49cb-a2f7-162e0077ea66",
   "metadata": {},
   "outputs": [
    {
     "data": {
      "image/png": "[encoded data removed]",
      "text/plain": [
       "<Figure size 432x288 with 1 Axes>"
      ]
     },
     "metadata": {
      "needs_background": "light"
     },
     "output_type": "display_data"
    }
   ],
   "source": [
    "from matplotlib import pyplot as plt\n",
    "%matplotlib inline\n",
    "\n",
    "plt.imshow(x_train[0],cmap='binary')\n",
    "plt.show()"
   ]
  },
  {
   "cell_type": "code",
   "execution_count": 25,
   "id": "fd40989d-d9a8-4614-b875-95002da9df20",
   "metadata": {},
   "outputs": [
    {
     "name": "stdout",
     "output_type": "stream",
     "text": [
      "[6]\n"
     ]
    }
   ],
   "source": [
    "print(y_train[0])"
   ]
  },
  {
   "cell_type": "code",
   "execution_count": 8,
   "id": "c74e87f4-1c0a-442b-8054-77dfabfeceee",
   "metadata": {},
   "outputs": [],
   "source": [
    "from tensorflow.keras.utils import to_categorical\n",
    "\n",
    "y_train_encoded = to_categorical(y_train)\n",
    "y_test_encoded = to_categorical(y_test)"
   ]
  },
  {
   "cell_type": "code",
   "execution_count": 12,
   "id": "d22f8464-639e-4793-82bb-f40c4ac644b8",
   "metadata": {},
   "outputs": [
    {
     "data": {
      "text/plain": [
       "array([0., 0., 0., 0., 0., 0., 1., 0., 0., 0.], dtype=float32)"
      ]
     },
     "execution_count": 12,
     "metadata": {},
     "output_type": "execute_result"
    }
   ],
   "source": [
    "y_train_encoded[0]"
   ]
  },
  {
   "cell_type": "code",
   "execution_count": 86,
   "id": "4746bebf-ae56-4240-8dd0-e30d21f57c95",
   "metadata": {},
   "outputs": [],
   "source": [
    "import numpy as np"
   ]
  },
  {
   "cell_type": "code",
   "execution_count": 98,
   "id": "eea0ed33-afff-4b0a-a6f3-8869ef5dd3bf",
   "metadata": {},
   "outputs": [
    {
     "name": "stdout",
     "output_type": "stream",
     "text": [
      "{27, 8, 51}\n"
     ]
    }
   ],
   "source": [
    "print(set(x_train[0][1][3]))"
   ]
  },
  {
   "cell_type": "code",
   "execution_count": 93,
   "id": "d5bdc91e-eef1-4c41-ba1e-14bab77a9fa4",
   "metadata": {},
   "outputs": [],
   "source": [
    "x_mean = np.mean(x_train)\n",
    "x_std = np.std(x_train)\n",
    "\n",
    "epsilon = 1e-10\n",
    "\n",
    "x_train_norm =(x_train - x_mean)/ (x_std + epsilon)\n",
    "x_test_norm =(x_test - x_mean)/ (x_std + epsilon)"
   ]
  },
  {
   "cell_type": "code",
   "execution_count": 99,
   "id": "0f95426a-f0c6-42a7-9674-934451a2847e",
   "metadata": {},
   "outputs": [],
   "source": [
    "from tensorflow.keras.models import Sequential\n",
    "from tensorflow.keras.layers import Dense\n",
    "from tensorflow.keras import layers\n",
    "cnn = Sequential([\n",
    "    layers.Conv2D(filters=32, kernel_size=(3, 3), activation='relu', input_shape=(32, 32, 3)),\n",
    "    layers.MaxPooling2D((2, 2)),\n",
    "    \n",
    "    layers.Conv2D(filters=64, kernel_size=(3, 3), activation='relu'),\n",
    "    layers.MaxPooling2D((2, 2)),\n",
    "    \n",
    "    layers.Flatten(),\n",
    "    layers.Dense(64, activation='relu'),\n",
    "    layers.Dense(10, activation='softmax')\n",
    "])"
   ]
  },
  {
   "cell_type": "code",
   "execution_count": 101,
   "id": "a4b76672-fb0b-4094-8ef4-cdc0e64c4177",
   "metadata": {},
   "outputs": [
    {
     "name": "stdout",
     "output_type": "stream",
     "text": [
      "Model: \"sequential_6\"\n",
      "_________________________________________________________________\n",
      " Layer (type)                Output Shape              Param #   \n",
      "=================================================================\n",
      " conv2d_2 (Conv2D)           (None, 30, 30, 32)        896       \n",
      "                                                                 \n",
      " max_pooling2d_2 (MaxPooling  (None, 15, 15, 32)       0         \n",
      " 2D)                                                             \n",
      "                                                                 \n",
      " conv2d_3 (Conv2D)           (None, 13, 13, 64)        18496     \n",
      "                                                                 \n",
      " max_pooling2d_3 (MaxPooling  (None, 6, 6, 64)         0         \n",
      " 2D)                                                             \n",
      "                                                                 \n",
      " flatten_3 (Flatten)         (None, 2304)              0         \n",
      "                                                                 \n",
      " dense_22 (Dense)            (None, 64)                147520    \n",
      "                                                                 \n",
      " dense_23 (Dense)            (None, 10)                650       \n",
      "                                                                 \n",
      "=================================================================\n",
      "Total params: 167,562\n",
      "Trainable params: 167,562\n",
      "Non-trainable params: 0\n",
      "_________________________________________________________________\n"
     ]
    }
   ],
   "source": [
    "cnn.compile(\n",
    "    optimizer='adam',\n",
    "    loss ='categorical_crossentropy',\n",
    "    metrics=['accuracy']\n",
    ")\n",
    "\n",
    "cnn.summary()"
   ]
  },
  {
   "cell_type": "code",
   "execution_count": 102,
   "id": "137a7aa0-2d9d-4e3b-ab88-832e50615112",
   "metadata": {},
   "outputs": [
    {
     "name": "stdout",
     "output_type": "stream",
     "text": [
      "Epoch 1/20\n",
      "1563/1563 [==============================] - 24s 15ms/step - loss: 1.3080 - accuracy: 0.5346\n",
      "Epoch 2/20\n",
      "1563/1563 [==============================] - 24s 15ms/step - loss: 0.9556 - accuracy: 0.6675\n",
      "Epoch 3/20\n",
      "1563/1563 [==============================] - 21s 13ms/step - loss: 0.8253 - accuracy: 0.7144\n",
      "Epoch 4/20\n",
      "1563/1563 [==============================] - 22s 14ms/step - loss: 0.7391 - accuracy: 0.7442\n",
      "Epoch 5/20\n",
      "1563/1563 [==============================] - 26s 17ms/step - loss: 0.6604 - accuracy: 0.7714\n",
      "Epoch 6/20\n",
      "1563/1563 [==============================] - 27s 17ms/step - loss: 0.5938 - accuracy: 0.7904\n",
      "Epoch 7/20\n",
      "1563/1563 [==============================] - 24s 15ms/step - loss: 0.5361 - accuracy: 0.8097\n",
      "Epoch 8/20\n",
      "1563/1563 [==============================] - 23s 15ms/step - loss: 0.4792 - accuracy: 0.8330\n",
      "Epoch 9/20\n",
      "1563/1563 [==============================] - 24s 15ms/step - loss: 0.4272 - accuracy: 0.8501\n",
      "Epoch 10/20\n",
      "1563/1563 [==============================] - 23s 15ms/step - loss: 0.3833 - accuracy: 0.8651\n",
      "Epoch 11/20\n",
      "1563/1563 [==============================] - 24s 15ms/step - loss: 0.3368 - accuracy: 0.8793\n",
      "Epoch 12/20\n",
      "1563/1563 [==============================] - 24s 15ms/step - loss: 0.2995 - accuracy: 0.8935\n",
      "Epoch 13/20\n",
      "1563/1563 [==============================] - 23s 15ms/step - loss: 0.2705 - accuracy: 0.9032\n",
      "Epoch 14/20\n",
      "1563/1563 [==============================] - 24s 15ms/step - loss: 0.2360 - accuracy: 0.9153\n",
      "Epoch 15/20\n",
      "1563/1563 [==============================] - 23s 15ms/step - loss: 0.2129 - accuracy: 0.9231\n",
      "Epoch 16/20\n",
      "1563/1563 [==============================] - 24s 15ms/step - loss: 0.1939 - accuracy: 0.9310\n",
      "Epoch 17/20\n",
      "1563/1563 [==============================] - 24s 15ms/step - loss: 0.1685 - accuracy: 0.9401\n",
      "Epoch 18/20\n",
      "1563/1563 [==============================] - 25s 16ms/step - loss: 0.1687 - accuracy: 0.9390\n",
      "Epoch 19/20\n",
      "1563/1563 [==============================] - 22s 14ms/step - loss: 0.1470 - accuracy: 0.9480\n",
      "Epoch 20/20\n",
      "1563/1563 [==============================] - 19s 12ms/step - loss: 0.1350 - accuracy: 0.9524\n"
     ]
    },
    {
     "data": {
      "text/plain": [
       "<keras.callbacks.History at 0x23ba6736b60>"
      ]
     },
     "execution_count": 102,
     "metadata": {},
     "output_type": "execute_result"
    }
   ],
   "source": [
    "cnn.fit(x_train_norm,y_train_encoded,epochs=20)"
   ]
  },
  {
   "cell_type": "code",
   "execution_count": 103,
   "id": "56b86f9a-f89d-4b49-b989-bb51ee65e8b9",
   "metadata": {},
   "outputs": [
    {
     "name": "stdout",
     "output_type": "stream",
     "text": [
      "313/313 [==============================] - 1s 3ms/step - loss: 1.9209 - accuracy: 0.6945\n",
      "Test_set_accuracy: 69.45000290870667 %\n"
     ]
    }
   ],
   "source": [
    "loss , accuracy = cnn.evaluate(x_test_norm,y_test_encoded)\n",
    "print('Test_set_accuracy:',accuracy*100,'%')"
   ]
  },
  {
   "cell_type": "code",
   "execution_count": 146,
   "id": "ed997cf9-acd4-4abe-a278-7680cb61096a",
   "metadata": {},
   "outputs": [
    {
     "name": "stdout",
     "output_type": "stream",
     "text": [
      "313/313 [==============================] - 1s 3ms/step\n"
     ]
    }
   ],
   "source": [
    "preds = cnn.predict(x_test_norm)\n",
    "a=70\n",
    "pred=np.argmax(preds[a])\n",
    "gt=int(y_test[a])\n",
    "s=['airplane','automobile','bird','cat','deer','dog','frog','horse','ship','truck']"
   ]
  },
  {
   "cell_type": "code",
   "execution_count": 147,
   "id": "dc9694ef-34c2-4047-b94c-f9900313e43c",
   "metadata": {},
   "outputs": [
    {
     "data": {
      "text/plain": [
       "<function matplotlib.pyplot.show(close=None, block=None)>"
      ]
     },
     "execution_count": 147,
     "metadata": {},
     "output_type": "execute_result"
    },
    {
     "data": {
      "image/png": "[encoded data removed]",
      "text/plain": [
       "<Figure size 432x288 with 1 Axes>"
      ]
     },
     "metadata": {},
     "output_type": "display_data"
    }
   ],
   "source": [
    "plt.grid(False)\n",
    "plt.xticks([])\n",
    "plt.yticks([])\n",
    "plt.xlabel('predicted={} , original ={}'.format(s[pred],s[gt]))\n",
    "plt.imshow(x_test[a])\n",
    "plt.show"
   ]
  },
  {
   "cell_type": "code",
   "execution_count": 148,
   "id": "349cfe85-a4cd-4bc6-a68c-f3148ed40eaa",
   "metadata": {},
   "outputs": [
    {
     "data": {
      "text/plain": [
       "<function matplotlib.pyplot.show(close=None, block=None)>"
      ]
     },
     "execution_count": 148,
     "metadata": {},
     "output_type": "execute_result"
    },
    {
     "data": {
      "image/png": "[encoded data removed]",
      "text/plain": [
       "<Figure size 432x288 with 1 Axes>"
      ]
     },
     "metadata": {
      "needs_background": "light"
     },
     "output_type": "display_data"
    }
   ],
   "source": [
    "plt.plot(preds[a])\n",
    "plt.show"
   ]
  },
  {
   "cell_type": "code",
   "execution_count": null,
   "id": "f3374b2e-c060-4368-88c7-c1c82608c37a",
   "metadata": {},
   "outputs": [],
   "source": []
  }
 ],
 "metadata": {
  "kernelspec": {
   "display_name": "Python 3 (ipykernel)",
   "language": "python",
   "name": "python3"
  },
  "language_info": {
   "codemirror_mode": {
    "name": "ipython",
    "version": 3
   },
   "file_extension": ".py",
   "mimetype": "text/x-python",
   "name": "python",
   "nbconvert_exporter": "python",
   "pygments_lexer": "ipython3",
   "version": "3.10.5"
  }
 },
 "nbformat": 4,
 "nbformat_minor": 5
}
